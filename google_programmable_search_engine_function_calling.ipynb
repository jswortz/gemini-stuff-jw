{
 "cells": [
  {
   "cell_type": "code",
   "execution_count": 1,
   "metadata": {},
   "outputs": [],
   "source": [
    "# Copyright 2023 Google LLC\n",
    "#\n",
    "# Licensed under the Apache License, Version 2.0 (the \"License\");\n",
    "# you may not use this file except in compliance with the License.\n",
    "# You may obtain a copy of the License at\n",
    "#\n",
    "#     https://www.apache.org/licenses/LICENSE-2.0\n",
    "#\n",
    "# Unless required by applicable law or agreed to in writing, software\n",
    "# distributed under the License is distributed on an \"AS IS\" BASIS,\n",
    "# WITHOUT WARRANTIES OR CONDITIONS OF ANY KIND, either express or implied.\n",
    "# See the License for the specific language governing permissions and\n",
    "# limitations under the License."
   ]
  },
  {
   "cell_type": "markdown",
   "metadata": {},
   "source": [
    "# Browser Function Calling with the Vertex AI Gemini API & Python SDK\n",
    "\n",
    "<table align=\"left\">\n",
    "  <td style=\"text-align: center\">\n",
    "    <a href=\"https://colab.research.google.com/github/GoogleCloudPlatform/generative-ai/blob/main/gemini/function-calling/intro_function_calling.ipynb\">\n",
    "      <img src=\"https://cloud.google.com/ml-engine/images/colab-logo-32px.png\" alt=\"Google Colaboratory logo\"><br> Run in Colab\n",
    "    </a>\n",
    "  </td>\n",
    "  <td style=\"text-align: center\">\n",
    "    <a href=\"https://github.com/GoogleCloudPlatform/generative-ai/blob/main/gemini/function-calling/intro_function_calling.ipynb\">\n",
    "      <img src=\"https://cloud.google.com/ml-engine/images/github-logo-32px.png\" alt=\"GitHub logo\"><br> View on GitHub\n",
    "    </a>\n",
    "  </td>\n",
    "  <td style=\"text-align: center\">\n",
    "    <a href=\"https://console.cloud.google.com/vertex-ai/workbench/deploy-notebook?download_url=https://raw.githubusercontent.com/GoogleCloudPlatform/generative-ai/blob/main/gemini/function-calling/intro_function_calling.ipynb\">\n",
    "      <img src=\"https://lh3.googleusercontent.com/UiNooY4LUgW_oTvpsNhPpQzsstV5W8F7rYgxgGBD85cWJoLmrOzhVs_ksK_vgx40SHs7jCqkTkCk=e14-rj-sc0xffffff-h130-w32\" alt=\"Vertex AI logo\"><br> Open in Vertex AI Workbench\n",
    "    </a>\n",
    "  </td>\n",
    "</table>\n"
   ]
  },
  {
   "cell_type": "code",
   "execution_count": 2,
   "metadata": {},
   "outputs": [],
   "source": [
    "#upgrade the sdk for Gemini\n",
    "# !pip3 install --upgrade --user google-cloud-aiplatform"
   ]
  },
  {
   "cell_type": "code",
   "execution_count": 3,
   "metadata": {},
   "outputs": [],
   "source": [
    "# !pip install playwright > /dev/null\n",
    "# !pip install  lxml\n",
    "\n",
    "# If this is your first time using playwright, you'll have to install a browser executable.\n",
    "# Running `playwright install` by default installs a chromium browser executable.\n",
    "# !playwright install\n",
    "# Also run this:\n",
    "# !playwright install dependencies"
   ]
  },
  {
   "cell_type": "markdown",
   "metadata": {},
   "source": [
    "### Restart current runtime\n",
    "\n",
    "To use the newly installed packages in this Jupyter runtime, it is recommended to restart the runtime. Run the following cell to restart the current kernel.\n",
    "\n",
    "The restart process might take a minute or so."
   ]
  },
  {
   "cell_type": "code",
   "execution_count": 1,
   "metadata": {},
   "outputs": [
    {
     "data": {
      "text/plain": [
       "{'status': 'ok', 'restart': True}"
      ]
     },
     "execution_count": 1,
     "metadata": {},
     "output_type": "execute_result"
    },
    {
     "ename": "",
     "evalue": "",
     "output_type": "error",
     "traceback": [
      "\u001b[1;31mThe Kernel crashed while executing code in the the current cell or a previous cell. Please review the code in the cell(s) to identify a possible cause of the failure. Click <a href='https://aka.ms/vscodeJupyterKernelCrash'>here</a> for more info. View Jupyter <a href='command:jupyter.viewOutput'>log</a> for further details."
     ]
    }
   ],
   "source": [
    "import IPython\n",
    "\n",
    "app = IPython.Application.instance()\n",
    "app.kernel.do_shutdown(True)"
   ]
  },
  {
   "cell_type": "markdown",
   "metadata": {},
   "source": [
    "#### We will be utilizing pre-built Langchain tools for the Google Search\n",
    "\n",
    "____________\n",
    "\n",
    "## Google Search\n",
    "[Langchain Guide](https://python.langchain.com/docs/integrations/tools/google_search)\n",
    "\n",
    "This notebook goes over how to use the google search component.\n",
    "\n",
    "First, you need to set up the proper API keys and environment variables. To set it up, create the GOOGLE_API_KEY in the Google Cloud credential console (https://console.cloud.google.com/apis/credentials) and a GOOGLE_CSE_ID using the Programmable Search Engine (https://programmablesearchengine.google.com/controlpanel/create). Next, it is good to follow the instructions found here.\n",
    "\n",
    "Then we will need to set some environment variables.\n",
    "\n",
    "```python\n",
    "import os\n",
    "\n",
    "os.environ[\"GOOGLE_CSE_ID\"] = \"\"\n",
    "os.environ[\"GOOGLE_API_KEY\"] = \"\"\n",
    "```"
   ]
  },
  {
   "cell_type": "code",
   "execution_count": 1,
   "metadata": {},
   "outputs": [],
   "source": [
    "#using a local json key - careful don't commit that file!\n",
    "import json\n",
    "import os\n",
    "\n",
    "f = open('config.json')\n",
    "config = json.load(f)\n",
    "f.close()\n",
    "\n",
    "\n",
    "os.environ[\"GOOGLE_CSE_ID\"] = config['SEARCH_ID']\n",
    "os.environ[\"GOOGLE_API_KEY\"] = config['CSE_KEY']"
   ]
  },
  {
   "cell_type": "code",
   "execution_count": 2,
   "metadata": {},
   "outputs": [
    {
     "name": "stderr",
     "output_type": "stream",
     "text": [
      "2023-12-15 23:28:13.583467: I tensorflow/core/platform/cpu_feature_guard.cc:193] This TensorFlow binary is optimized with oneAPI Deep Neural Network Library (oneDNN) to use the following CPU instructions in performance-critical operations:  AVX2 FMA\n",
      "To enable them in other operations, rebuild TensorFlow with the appropriate compiler flags.\n",
      "2023-12-15 23:28:14.920108: W tensorflow/compiler/xla/stream_executor/platform/default/dso_loader.cc:64] Could not load dynamic library 'libnvinfer.so.7'; dlerror: libnvinfer.so.7: cannot open shared object file: No such file or directory; LD_LIBRARY_PATH: /usr/local/cuda/lib64:/usr/local/nccl2/lib:/usr/local/cuda/extras/CUPTI/lib64:/usr/local/cuda/lib64:/usr/local/nccl2/lib:/usr/local/cuda/extras/CUPTI/lib64\n",
      "2023-12-15 23:28:14.920259: W tensorflow/compiler/xla/stream_executor/platform/default/dso_loader.cc:64] Could not load dynamic library 'libnvinfer_plugin.so.7'; dlerror: libnvinfer_plugin.so.7: cannot open shared object file: No such file or directory; LD_LIBRARY_PATH: /usr/local/cuda/lib64:/usr/local/nccl2/lib:/usr/local/cuda/extras/CUPTI/lib64:/usr/local/cuda/lib64:/usr/local/nccl2/lib:/usr/local/cuda/extras/CUPTI/lib64\n",
      "2023-12-15 23:28:14.920270: W tensorflow/compiler/tf2tensorrt/utils/py_utils.cc:38] TF-TRT Warning: Cannot dlopen some TensorRT libraries. If you would like to use Nvidia GPU with TensorRT, please make sure the missing libraries mentioned above are installed properly.\n"
     ]
    }
   ],
   "source": [
    "\n",
    "import requests\n",
    "from vertexai.preview.generative_models import (\n",
    "    Content,\n",
    "    FunctionDeclaration,\n",
    "    GenerativeModel,\n",
    "    Part,\n",
    "    Tool,\n",
    ")\n",
    "\n",
    "from langchain.tools import Tool as LangchainTool\n",
    "from langchain.utilities import GoogleSearchAPIWrapper\n",
    "\n",
    "search = GoogleSearchAPIWrapper()\n"
   ]
  },
  {
   "cell_type": "markdown",
   "metadata": {},
   "source": [
    "#### Create the Langchain tool for search"
   ]
  },
  {
   "cell_type": "code",
   "execution_count": 3,
   "metadata": {},
   "outputs": [],
   "source": [
    "tool = LangchainTool(\n",
    "    name=\"Google Search\",\n",
    "    description=\"Search Google for recent results.\",\n",
    "    func=search.run,\n",
    ")"
   ]
  },
  {
   "cell_type": "code",
   "execution_count": 4,
   "metadata": {},
   "outputs": [
    {
     "data": {
      "text/plain": [
       "\"1 Child's First Name. (Type or print). BARACK. CERTIFICATE OF LIVE BIRTH lb ... OBAMA, II. Day. 4. 6b. Island. Year. 5b. Hour. 1961 7:24 P.M.. Oahu. 6d. Is Place\\xa0... His last name, Obama, was derived from his Luo descent. Obama's parents met in ... First 100 days. Main article: First 100 days of Barack Obama's presidency. Apr 12, 2017 ... President Barack Obama's full name is Barack Hussein Obama. Does it mean that he is a Muslim? 199,232 Views. First Lady Michelle LaVaughn Robinson Obama is a lawyer, writer, and the wife of the 44th President, Barack Obama. She is the first African-American First\\xa0... Apr 2, 2018 ... BARACK : Barkat and Mubarak both are derived from it in Hindi and Urdu. Roughly meaning blessing, abundance etc. Husen or Hussein from which\\xa0... Barack Hussein Obama II was born August 4, 1961, in Honolulu, Hawaii, to parents Barack H. Obama, Sr., and Stanley Ann Dunham. His parents divorced when he\\xa0... Jan 19, 2017 ... Hopeful parents named their sons for the first Black president, whose name is a variation of the Hebrew name Baruch, which means “blessed”\\xa0... Michelle Obama. @MichelleObama. ·. Nov 19. You learn very quickly that there is no handbook or rules to being First Lady. Technically, it's not even an official\\xa0... The Middle East remained a key foreign policy challenge. ... Learn more about Barack Obama's spouse, Michelle Obama. President Barack Obama and First Lady\\xa0... 37M Followers, 9 Following, 879 Posts - See Instagram photos and videos from Barack Obama (@barackobama)\""
      ]
     },
     "execution_count": 4,
     "metadata": {},
     "output_type": "execute_result"
    }
   ],
   "source": [
    "tool.run(\"Obama's first name?\")"
   ]
  },
  {
   "cell_type": "markdown",
   "metadata": {},
   "source": [
    "#### Get the tool parameters\n",
    "Looking at the source code to find the parameters for the `.run` method for the tool\n",
    "\n",
    "\n",
    "```python\n",
    "def run(self, query: str) -> str:\n",
    "        \"\"\"Run query through GoogleSearch and parse result.\"\"\"\n",
    "        ...\n",
    "```"
   ]
  },
  {
   "cell_type": "code",
   "execution_count": 5,
   "metadata": {},
   "outputs": [],
   "source": [
    "search_func = FunctionDeclaration(\n",
    "    name=\"google_search\",\n",
    "    description=\"Perform a Google Search\",\n",
    "    parameters={\n",
    "    \"type\": \"object\",\n",
    "    \"properties\": {\n",
    "        \"query\": {\n",
    "            \"type\": \"string\",\n",
    "            \"description\": \"Google Search Query\"\n",
    "        }\n",
    "    }\n",
    "},\n",
    ")\n"
   ]
  },
  {
   "cell_type": "markdown",
   "metadata": {},
   "source": [
    "You can then define a tool for the LLM to call that includes the `search_func`:"
   ]
  },
  {
   "cell_type": "code",
   "execution_count": 6,
   "metadata": {},
   "outputs": [],
   "source": [
    "search_tool = Tool(\n",
    "    function_declarations=[search_func],\n",
    ")"
   ]
  },
  {
   "cell_type": "markdown",
   "metadata": {},
   "source": [
    "### Use the Gemini Pro model\n",
    "\n",
    "The Gemini Pro (`gemini-pro`) model is designed to handle natural language tasks, multiturn text and code chat, and code generation."
   ]
  },
  {
   "cell_type": "code",
   "execution_count": 7,
   "metadata": {},
   "outputs": [],
   "source": [
    "model = GenerativeModel(\"gemini-pro\")"
   ]
  },
  {
   "cell_type": "code",
   "execution_count": 8,
   "metadata": {},
   "outputs": [
    {
     "data": {
      "text/plain": [
       "candidates {\n",
       "  content {\n",
       "    role: \"model\"\n",
       "    parts {\n",
       "      function_call {\n",
       "        name: \"google_search\"\n",
       "        args {\n",
       "          fields {\n",
       "            key: \"query\"\n",
       "            value {\n",
       "              string_value: \"Top news on Panera Bread\"\n",
       "            }\n",
       "          }\n",
       "        }\n",
       "      }\n",
       "    }\n",
       "  }\n",
       "  finish_reason: STOP\n",
       "  safety_ratings {\n",
       "    category: HARM_CATEGORY_HARASSMENT\n",
       "    probability: NEGLIGIBLE\n",
       "  }\n",
       "  safety_ratings {\n",
       "    category: HARM_CATEGORY_HATE_SPEECH\n",
       "    probability: NEGLIGIBLE\n",
       "  }\n",
       "  safety_ratings {\n",
       "    category: HARM_CATEGORY_SEXUALLY_EXPLICIT\n",
       "    probability: NEGLIGIBLE\n",
       "  }\n",
       "  safety_ratings {\n",
       "    category: HARM_CATEGORY_DANGEROUS_CONTENT\n",
       "    probability: NEGLIGIBLE\n",
       "  }\n",
       "}\n",
       "usage_metadata {\n",
       "  prompt_token_count: 10\n",
       "  total_token_count: 10\n",
       "}"
      ]
     },
     "execution_count": 8,
     "metadata": {},
     "output_type": "execute_result"
    }
   ],
   "source": [
    "prompt = \"What is the top news on Panera Bread?\"\n",
    "\n",
    "response = model.generate_content(\n",
    "    prompt,\n",
    "    generation_config={\"temperature\": 0},\n",
    "    tools=[search_tool]\n",
    ")\n",
    "response"
   ]
  },
  {
   "cell_type": "markdown",
   "metadata": {},
   "source": [
    "##### Quick inspection of one function call"
   ]
  },
  {
   "cell_type": "code",
   "execution_count": 9,
   "metadata": {},
   "outputs": [
    {
     "data": {
      "text/plain": [
       "name: \"google_search\"\n",
       "args {\n",
       "  fields {\n",
       "    key: \"query\"\n",
       "    value {\n",
       "      string_value: \"Top news on Panera Bread\"\n",
       "    }\n",
       "  }\n",
       "}"
      ]
     },
     "execution_count": 9,
     "metadata": {},
     "output_type": "execute_result"
    }
   ],
   "source": [
    "response.candidates[0].content.parts[0].function_call"
   ]
  },
  {
   "cell_type": "code",
   "execution_count": 10,
   "metadata": {},
   "outputs": [],
   "source": [
    "from google.cloud.aiplatform_v1beta1.types.tool import FunctionCall\n",
    "from vertexai.generative_models._generative_models import GenerationResponse\n",
    "from typing import List\n",
    "\n",
    "def get_parts_from_response(response: GenerationResponse) -> List[FunctionCall]:\n",
    "    \"\"\"\n",
    "    Get the parts from a generation response.\n",
    "\n",
    "    Args:\n",
    "        response: The generation response.\n",
    "\n",
    "    Returns:\n",
    "        A list of parts.\n",
    "    \"\"\"\n",
    "    return(response.candidates[0].content)"
   ]
  },
  {
   "cell_type": "markdown",
   "metadata": {},
   "source": [
    "#### We will now do a mult-turn chat\n",
    "Example can be found here on [function calling](https://cloud.google.com/vertex-ai/docs/generative-ai/multimodal/function-calling#function-calling-one-and-a-half-turn-curl-sample)"
   ]
  },
  {
   "cell_type": "code",
   "execution_count": 11,
   "metadata": {},
   "outputs": [],
   "source": [
    "model = GenerativeModel(\"gemini-pro\", \n",
    "                        generation_config={\"temperature\": 0},\n",
    "                        tools=[search_tool])\n",
    "chat = model.start_chat()"
   ]
  },
  {
   "cell_type": "code",
   "execution_count": 12,
   "metadata": {},
   "outputs": [
    {
     "data": {
      "text/plain": [
       "[function_call {\n",
       "   name: \"google_search\"\n",
       "   args {\n",
       "     fields {\n",
       "       key: \"query\"\n",
       "       value {\n",
       "         string_value: \"Deepmind solved unsolvable math problem December 2023\"\n",
       "       }\n",
       "     }\n",
       "   }\n",
       " }]"
      ]
     },
     "execution_count": 12,
     "metadata": {},
     "output_type": "execute_result"
    }
   ],
   "source": [
    "from pprint import pprint\n",
    "\n",
    "prompt = \"How did deepmind recently solve an unsolvable math problem (december 2023)\"\n",
    "# while_loop = True\n",
    "\n",
    "# while while_loop:\n",
    "response = chat.send_message(prompt)\n",
    "# pprint(response)\n",
    "function_calls = get_parts_from_response(response)\n",
    "\n",
    "function_calls = function_calls.parts\n",
    "function_calls"
   ]
  },
  {
   "cell_type": "code",
   "execution_count": 13,
   "metadata": {},
   "outputs": [
    {
     "name": "stdout",
     "output_type": "stream",
     "text": [
      "1 day ago ... 14 December 2023. DeepMind AI outdoes human mathematicians on ... Related Articles. DeepMind AI invents faster algorithms to solve tough maths ... Google DeepMind used a large language model to solve ... December 14, 2023. scraps of old algebra textbook piled with an old photo of a woman surrounded by ... Posted by BeauHD on Thursday December 14, 2023 @10:30PM from the what-will-they-think-of-next dept. An anonymous reader quotes a report from MIT Technology ... 10 hours ago ... -> Google DeepMind's FunSearch model cracks the unsolved cap set problem in pure mathematics, the first time an LLM has solved a long-standing ... Dec 7, 2021 ... The AI comes just a few months after DeepMind's previous triumph in solving a 50-year-old challenge in biology. ... December 9, 2023. Load more. UPDATED 18:50 EST / DECEMBER 14 2023. AI. Google's DeepMind creates generative AI model with fact checker to crack unsolvable math problem. by Mike Wheatley. 21 hours ago ... To build “FunSearch”, short for “searching in the function space”, DeepMind harnessed an LLM to write solutions to problems in the form of ... Oct 26, 2022 ... An artificial intelligence system from Google's sibling company DeepMind stumbled on a new way to solve a foundational math problem at the ... Google DeepMind Used a Large Language Model to Solve an Unsolvable Math Problem. By MIT Technology Review. December 15, 2023. [article image] ... Google DeepMind used a large language model to solve an unsolvable math problem. Posted on December 14, 2023 December 14, 2023 by Will Douglas Heaven. Google ...\n"
     ]
    }
   ],
   "source": [
    "single_function_args = function_calls[0].function_call.args\n",
    "tool_res = tool.run( {k: single_function_args[k] for k in single_function_args})\n",
    "print(tool_res)"
   ]
  },
  {
   "cell_type": "code",
   "execution_count": 14,
   "metadata": {},
   "outputs": [
    {
     "name": "stdout",
     "output_type": "stream",
     "text": [
      "model_response\n",
      " candidates {\n",
      "  content {\n",
      "    role: \"model\"\n",
      "    parts {\n",
      "      text: \" DeepMind, a leading artificial intelligence research company, recently made a breakthrough in solving a previously unsolvable math problem. The problem, known as the \\\"Cap Set Problem,\\\" had stumped mathematicians for decades. DeepMind\\'s solution was published in the journal Nature in December 2023.\\n\\nThe Cap Set Problem involves finding the maximum number of non-overlapping sets that can be formed from a given set of elements. For example, if you have the set {1, 2, 3}, you can form the following sets:\\n\\n* {1}\\n* {2}\\n* {3}\\n* {1, 2}\\n* {1, 3}\\n* {2, 3}\\n\\nThe maximum number of non-overlapping sets that can be formed from this set is 6.\\n\\nDeepMind\\'s solution to the Cap Set Problem is based on a new algorithm called the \\\"FunSearch\\\" algorithm. The FunSearch algorithm uses a technique called \\\"reinforcement learning\\\" to search for solutions to the problem. Reinforcement learning is a type of machine learning that allows an algorithm to learn from its mistakes and improve its performance over time.\\n\\nThe FunSearch algorithm was able to find a solution to the Cap Set Problem that was better than any previous solution. The algorithm was able to find a solution that was 10% better than the previous best solution.\\n\\nDeepMind\\'s solution to the Cap Set Problem is a significant breakthrough in the field of mathematics. The problem had been unsolved for decades, and DeepMind\\'s solution is a testament to the power of artificial intelligence.\"\n",
      "    }\n",
      "  }\n",
      "  finish_reason: STOP\n",
      "  safety_ratings {\n",
      "    category: HARM_CATEGORY_HARASSMENT\n",
      "    probability: NEGLIGIBLE\n",
      "  }\n",
      "  safety_ratings {\n",
      "    category: HARM_CATEGORY_HATE_SPEECH\n",
      "    probability: NEGLIGIBLE\n",
      "  }\n",
      "  safety_ratings {\n",
      "    category: HARM_CATEGORY_SEXUALLY_EXPLICIT\n",
      "    probability: NEGLIGIBLE\n",
      "  }\n",
      "  safety_ratings {\n",
      "    category: HARM_CATEGORY_DANGEROUS_CONTENT\n",
      "    probability: NEGLIGIBLE\n",
      "  }\n",
      "}\n",
      "usage_metadata {\n",
      "  prompt_token_count: 20\n",
      "  candidates_token_count: 329\n",
      "  total_token_count: 349\n",
      "}\n",
      "\n"
     ]
    }
   ],
   "source": [
    "model_response = chat.send_message(\n",
    "  Part.from_function_response(\n",
    "      name=\"google_search\",\n",
    "      response={\n",
    "          \"content\": {\"google_search_results\": tool_res},\n",
    "      }\n",
    "  ),\n",
    "  tools=[search_tool]\n",
    ")\n",
    "print(\"model_response\\n\", model_response)"
   ]
  },
  {
   "cell_type": "code",
   "execution_count": 15,
   "metadata": {},
   "outputs": [
    {
     "data": {
      "text/plain": [
       "candidates {\n",
       "  content {\n",
       "    role: \"model\"\n",
       "    parts {\n",
       "      text: \"DeepMind\\'s solution to the Cap Set Problem involved developing a novel algorithm called \\\"FunSearch.\\\" FunSearch leverages reinforcement learning, a technique that enables algorithms to learn from their mistakes and refine their performance over time.\\n\\nThe FunSearch algorithm operates by iteratively generating potential solutions to the Cap Set Problem. It evaluates each solution based on its effectiveness in maximizing the number of non-overlapping sets. Solutions that yield better outcomes are reinforced, while those that perform poorly are gradually discarded.\\n\\nThrough this iterative process, FunSearch progressively enhances its ability to identify high-quality solutions. It explores various combinations and arrangements of elements within the given set, seeking to uncover the optimal configuration that maximizes the number of non-overlapping sets.\\n\\nDeepMind\\'s application of FunSearch to the Cap Set Problem represents a significant breakthrough in the field of mathematics. It demonstrates the potential of artificial intelligence to tackle complex problems that have eluded traditional mathematical approaches for decades.\"\n",
       "    }\n",
       "  }\n",
       "  finish_reason: STOP\n",
       "  safety_ratings {\n",
       "    category: HARM_CATEGORY_HARASSMENT\n",
       "    probability: NEGLIGIBLE\n",
       "  }\n",
       "  safety_ratings {\n",
       "    category: HARM_CATEGORY_HATE_SPEECH\n",
       "    probability: NEGLIGIBLE\n",
       "  }\n",
       "  safety_ratings {\n",
       "    category: HARM_CATEGORY_SEXUALLY_EXPLICIT\n",
       "    probability: NEGLIGIBLE\n",
       "  }\n",
       "  safety_ratings {\n",
       "    category: HARM_CATEGORY_DANGEROUS_CONTENT\n",
       "    probability: NEGLIGIBLE\n",
       "  }\n",
       "}\n",
       "usage_metadata {\n",
       "  prompt_token_count: 369\n",
       "  candidates_token_count: 190\n",
       "  total_token_count: 559\n",
       "}"
      ]
     },
     "execution_count": 15,
     "metadata": {},
     "output_type": "execute_result"
    }
   ],
   "source": [
    "chat.send_message(prompt)"
   ]
  },
  {
   "cell_type": "code",
   "execution_count": 16,
   "metadata": {},
   "outputs": [],
   "source": [
    "followup_prompt = \"what are other related google search topics on this I could research? Use the google search tool\""
   ]
  },
  {
   "cell_type": "code",
   "execution_count": 17,
   "metadata": {},
   "outputs": [
    {
     "name": "stdout",
     "output_type": "stream",
     "text": [
      "1 day ago ... Google DeepMind used a large language model to solve an unsolvable math problem. They had to throw away most of what it produced but there ... 24 hours ago ... Built on top of DeepMind's game-playing AI AlphaZero, both solved math problems by treating them as if they were puzzles in Go or chess. The ... 1 day ago ... ... to solve maths problems with known solutions, says Kohli. ... Related Articles. DeepMind AI invents faster algorithms to solve tough maths puzzles. Feb 23, 2007 ... ... problems, and other maths-related topics. ... Pingback: Google DeepMind used a large language model to solve an unsolvable math problem – Maverick ... 24 hours ago ... When tasked with mathematical problems, FunSearch writes computer code that can find the solution, rather than trying to tackle it directly. 1 day ago ... Haven't mathematicians been using complex computer modeling to help solve unsolved math problems since computers have existed? And havent ... 7 hours ago ... Google's AI division, DeepMind, has used an LLM-powered tool called FunSearch to crack one of the world-famous unsolved mathematics ... 17 hours ago ... Google scientists create an exciting AI model that can solve unsolvable math problems · Google DeepMind researchers have unveiled FunSearch, an ... Dec 7, 2021 ... In another proof of concept, DeepMind teamed up with Williamson to solve a problem in symmetries, which touches many other branches of math. 21 hours ago ... To build “FunSearch”, short for “searching in the function space”, DeepMind harnessed an LLM to write solutions to problems in the form of ...\n"
     ]
    }
   ],
   "source": [
    "response = chat.send_message(followup_prompt)\n",
    "function_calls = get_parts_from_response(response)\n",
    "\n",
    "function_calls = function_calls.parts\n",
    "single_function_args = function_calls[0].function_call.args\n",
    "tool_res = tool.run( {k: single_function_args[k] for k in single_function_args})\n",
    "print(tool_res)"
   ]
  },
  {
   "cell_type": "code",
   "execution_count": 18,
   "metadata": {},
   "outputs": [
    {
     "name": "stdout",
     "output_type": "stream",
     "text": [
      "model_response\n",
      " candidates {\n",
      "  content {\n",
      "    role: \"model\"\n",
      "    parts {\n",
      "      text: \" Here are some related Google search topics on DeepMind solving an unsolvable math problem in December 2023 that you could research:\\n\\n* **DeepMind\\'s FunSearch algorithm:** Learn more about the specific algorithm that DeepMind developed to solve the Cap Set Problem. Explore how FunSearch leverages reinforcement learning and its advantages over traditional mathematical approaches.\\n* **Applications of FunSearch:** Investigate potential applications of the FunSearch algorithm beyond the Cap Set Problem. Consider other mathematical domains or real-world scenarios where FunSearch could be applied to solve complex optimization problems.\\n* **Limitations of FunSearch:** Identify any limitations or challenges associated with using FunSearch. Explore scenarios where the algorithm may not be suitable or effective, and consider potential areas for improvement or further research.\\n* **Ethical implications:** Reflect on the ethical implications of using artificial intelligence to solve mathematical problems. Consider questions related to the role of human mathematicians, the potential for bias in AI algorithms, and the responsible use of AI in mathematical research.\\n* **Future directions:** Speculate on future directions for research in this area. Consider how DeepMind\\'s breakthrough could inspire new approaches to solving mathematical problems and the potential for further advancements in the field of artificial intelligence.\"\n",
      "    }\n",
      "  }\n",
      "  finish_reason: STOP\n",
      "  safety_ratings {\n",
      "    category: HARM_CATEGORY_HARASSMENT\n",
      "    probability: NEGLIGIBLE\n",
      "  }\n",
      "  safety_ratings {\n",
      "    category: HARM_CATEGORY_HATE_SPEECH\n",
      "    probability: NEGLIGIBLE\n",
      "  }\n",
      "  safety_ratings {\n",
      "    category: HARM_CATEGORY_SEXUALLY_EXPLICIT\n",
      "    probability: NEGLIGIBLE\n",
      "  }\n",
      "  safety_ratings {\n",
      "    category: HARM_CATEGORY_DANGEROUS_CONTENT\n",
      "    probability: NEGLIGIBLE\n",
      "  }\n",
      "}\n",
      "usage_metadata {\n",
      "  prompt_token_count: 577\n",
      "  candidates_token_count: 250\n",
      "  total_token_count: 827\n",
      "}\n",
      "\n"
     ]
    }
   ],
   "source": [
    "model_response = chat.send_message(\n",
    "  Part.from_function_response(\n",
    "      name=\"google_search\",\n",
    "      response={\n",
    "          \"content\": {\"google_search_results\": tool_res},\n",
    "      }\n",
    "  ),\n",
    "  tools=[search_tool]\n",
    ")\n",
    "print(\"model_response\\n\", model_response)"
   ]
  },
  {
   "cell_type": "code",
   "execution_count": 19,
   "metadata": {},
   "outputs": [
    {
     "name": "stdout",
     "output_type": "stream",
     "text": [
      "(\"* **DeepMind's Breakthrough:**\\n\"\n",
      " '    * Solved the Cap Set Problem, a previously unsolvable math problem, in '\n",
      " 'December 2023.\\n'\n",
      " '    * Developed a novel algorithm called FunSearch based on reinforcement '\n",
      " 'learning.\\n'\n",
      " '* **FunSearch Algorithm:**\\n'\n",
      " '    * Iteratively generates and evaluates potential solutions to the Cap Set '\n",
      " 'Problem.\\n'\n",
      " '    * Reinforces high-quality solutions and discards poor ones, improving '\n",
      " 'performance over time.\\n'\n",
      " '    * Treats the problem as an optimization task, seeking to maximize the '\n",
      " 'number of non-overlapping sets.\\n'\n",
      " '* **Significance:**\\n'\n",
      " '    * Demonstrates the power of AI to tackle complex mathematical problems.\\n'\n",
      " '    * Opens up new avenues for solving problems that have eluded traditional '\n",
      " 'approaches.\\n'\n",
      " '    * Highlights the potential of reinforcement learning in mathematical '\n",
      " 'research.\\n'\n",
      " '* **Related Topics for Further Research:**\\n'\n",
      " '    * Applications of FunSearch beyond the Cap Set Problem.\\n'\n",
      " '    * Limitations and challenges of using FunSearch.\\n'\n",
      " '    * Ethical implications of using AI to solve mathematical problems.\\n'\n",
      " '    * Future directions for research in this area.')\n"
     ]
    }
   ],
   "source": [
    "final_prompt=\"please create a nice bulleted summary of this topic\"\n",
    "final_response = chat.send_message(final_prompt)\n",
    "\n",
    "pprint(final_response.candidates[0].content.parts[0].text)"
   ]
  }
 ],
 "metadata": {
  "kernelspec": {
   "display_name": "tensorflow",
   "language": "python",
   "name": "python3"
  },
  "language_info": {
   "codemirror_mode": {
    "name": "ipython",
    "version": 3
   },
   "file_extension": ".py",
   "mimetype": "text/x-python",
   "name": "python",
   "nbconvert_exporter": "python",
   "pygments_lexer": "ipython3",
   "version": "3.10.12"
  }
 },
 "nbformat": 4,
 "nbformat_minor": 2
}
