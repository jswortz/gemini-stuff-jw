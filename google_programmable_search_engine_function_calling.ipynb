{
 "cells": [
  {
   "cell_type": "code",
   "execution_count": 1,
   "metadata": {},
   "outputs": [],
   "source": [
    "# Copyright 2023 Google LLC\n",
    "#\n",
    "# Licensed under the Apache License, Version 2.0 (the \"License\");\n",
    "# you may not use this file except in compliance with the License.\n",
    "# You may obtain a copy of the License at\n",
    "#\n",
    "#     https://www.apache.org/licenses/LICENSE-2.0\n",
    "#\n",
    "# Unless required by applicable law or agreed to in writing, software\n",
    "# distributed under the License is distributed on an \"AS IS\" BASIS,\n",
    "# WITHOUT WARRANTIES OR CONDITIONS OF ANY KIND, either express or implied.\n",
    "# See the License for the specific language governing permissions and\n",
    "# limitations under the License."
   ]
  },
  {
   "cell_type": "markdown",
   "metadata": {},
   "source": [
    "# Browser Function Calling with the Vertex AI Gemini API & Python SDK\n",
    "\n",
    "<table align=\"left\">\n",
    "  <td style=\"text-align: center\">\n",
    "    <a href=\"https://colab.research.google.com/github/GoogleCloudPlatform/generative-ai/blob/main/gemini/function-calling/intro_function_calling.ipynb\">\n",
    "      <img src=\"https://cloud.google.com/ml-engine/images/colab-logo-32px.png\" alt=\"Google Colaboratory logo\"><br> Run in Colab\n",
    "    </a>\n",
    "  </td>\n",
    "  <td style=\"text-align: center\">\n",
    "    <a href=\"https://github.com/GoogleCloudPlatform/generative-ai/blob/main/gemini/function-calling/intro_function_calling.ipynb\">\n",
    "      <img src=\"https://cloud.google.com/ml-engine/images/github-logo-32px.png\" alt=\"GitHub logo\"><br> View on GitHub\n",
    "    </a>\n",
    "  </td>\n",
    "  <td style=\"text-align: center\">\n",
    "    <a href=\"https://console.cloud.google.com/vertex-ai/workbench/deploy-notebook?download_url=https://raw.githubusercontent.com/GoogleCloudPlatform/generative-ai/blob/main/gemini/function-calling/intro_function_calling.ipynb\">\n",
    "      <img src=\"https://lh3.googleusercontent.com/UiNooY4LUgW_oTvpsNhPpQzsstV5W8F7rYgxgGBD85cWJoLmrOzhVs_ksK_vgx40SHs7jCqkTkCk=e14-rj-sc0xffffff-h130-w32\" alt=\"Vertex AI logo\"><br> Open in Vertex AI Workbench\n",
    "    </a>\n",
    "  </td>\n",
    "</table>\n"
   ]
  },
  {
   "cell_type": "code",
   "execution_count": null,
   "metadata": {},
   "outputs": [],
   "source": [
    "#upgrade the sdk for Gemini\n",
    "# !pip3 install --upgrade --user google-cloud-aiplatform"
   ]
  },
  {
   "cell_type": "code",
   "execution_count": 2,
   "metadata": {},
   "outputs": [],
   "source": [
    "# !pip install playwright > /dev/null\n",
    "# !pip install  lxml\n",
    "\n",
    "# If this is your first time using playwright, you'll have to install a browser executable.\n",
    "# Running `playwright install` by default installs a chromium browser executable.\n",
    "# !playwright install\n",
    "# Also run this:\n",
    "# !playwright install dependencies"
   ]
  },
  {
   "cell_type": "markdown",
   "metadata": {},
   "source": [
    "### Restart current runtime\n",
    "\n",
    "To use the newly installed packages in this Jupyter runtime, it is recommended to restart the runtime. Run the following cell to restart the current kernel.\n",
    "\n",
    "The restart process might take a minute or so."
   ]
  },
  {
   "cell_type": "code",
   "execution_count": 3,
   "metadata": {},
   "outputs": [
    {
     "data": {
      "text/plain": [
       "{'status': 'ok', 'restart': True}"
      ]
     },
     "execution_count": 3,
     "metadata": {},
     "output_type": "execute_result"
    }
   ],
   "source": [
    "import IPython\n",
    "\n",
    "app = IPython.Application.instance()\n",
    "app.kernel.do_shutdown(True)"
   ]
  },
  {
   "cell_type": "markdown",
   "metadata": {},
   "source": [
    "#### We will be utilizing pre-built Langchain tools for the Google Search\n",
    "\n",
    "____________\n",
    "\n",
    "## Google Search\n",
    "[Langchain Guide](https://python.langchain.com/docs/integrations/tools/google_search)\n",
    "\n",
    "This notebook goes over how to use the google search component.\n",
    "\n",
    "First, you need to set up the proper API keys and environment variables. To set it up, create the GOOGLE_API_KEY in the Google Cloud credential console (https://console.cloud.google.com/apis/credentials) and a GOOGLE_CSE_ID using the Programmable Search Engine (https://programmablesearchengine.google.com/controlpanel/create). Next, it is good to follow the instructions found here.\n",
    "\n",
    "Then we will need to set some environment variables.\n",
    "\n",
    "```python\n",
    "import os\n",
    "\n",
    "os.environ[\"GOOGLE_CSE_ID\"] = \"\"\n",
    "os.environ[\"GOOGLE_API_KEY\"] = \"\"\n",
    "```"
   ]
  },
  {
   "cell_type": "code",
   "execution_count": 2,
   "metadata": {},
   "outputs": [
    {
     "name": "stderr",
     "output_type": "stream",
     "text": [
      "2023-12-15 22:11:38.397320: I tensorflow/core/platform/cpu_feature_guard.cc:193] This TensorFlow binary is optimized with oneAPI Deep Neural Network Library (oneDNN) to use the following CPU instructions in performance-critical operations:  AVX2 FMA\n",
      "To enable them in other operations, rebuild TensorFlow with the appropriate compiler flags.\n",
      "2023-12-15 22:11:40.508739: W tensorflow/compiler/xla/stream_executor/platform/default/dso_loader.cc:64] Could not load dynamic library 'libnvinfer.so.7'; dlerror: libnvinfer.so.7: cannot open shared object file: No such file or directory; LD_LIBRARY_PATH: /usr/local/cuda/lib64:/usr/local/nccl2/lib:/usr/local/cuda/extras/CUPTI/lib64:/usr/local/cuda/lib64:/usr/local/nccl2/lib:/usr/local/cuda/extras/CUPTI/lib64\n",
      "2023-12-15 22:11:40.508978: W tensorflow/compiler/xla/stream_executor/platform/default/dso_loader.cc:64] Could not load dynamic library 'libnvinfer_plugin.so.7'; dlerror: libnvinfer_plugin.so.7: cannot open shared object file: No such file or directory; LD_LIBRARY_PATH: /usr/local/cuda/lib64:/usr/local/nccl2/lib:/usr/local/cuda/extras/CUPTI/lib64:/usr/local/cuda/lib64:/usr/local/nccl2/lib:/usr/local/cuda/extras/CUPTI/lib64\n",
      "2023-12-15 22:11:40.508992: W tensorflow/compiler/tf2tensorrt/utils/py_utils.cc:38] TF-TRT Warning: Cannot dlopen some TensorRT libraries. If you would like to use Nvidia GPU with TensorRT, please make sure the missing libraries mentioned above are installed properly.\n"
     ]
    }
   ],
   "source": [
    "\n",
    "import requests\n",
    "from vertexai.preview.generative_models import (\n",
    "    Content,\n",
    "    FunctionDeclaration,\n",
    "    GenerativeModel,\n",
    "    Part,\n",
    "    Tool,\n",
    ")\n",
    "\n",
    "from langchain.tools import Tool as LangchainTool\n",
    "from langchain.utilities import GoogleSearchAPIWrapper\n",
    "\n",
    "search = GoogleSearchAPIWrapper()\n"
   ]
  },
  {
   "cell_type": "markdown",
   "metadata": {},
   "source": [
    "#### Create the Langchain tool for search"
   ]
  },
  {
   "cell_type": "code",
   "execution_count": 3,
   "metadata": {},
   "outputs": [],
   "source": [
    "tool = LangchainTool(\n",
    "    name=\"Google Search\",\n",
    "    description=\"Search Google for recent results.\",\n",
    "    func=search.run,\n",
    ")"
   ]
  },
  {
   "cell_type": "code",
   "execution_count": 4,
   "metadata": {},
   "outputs": [
    {
     "data": {
      "text/plain": [
       "\"1 Child's First Name. (Type or print). BARACK. CERTIFICATE OF LIVE BIRTH lb ... OBAMA, II. Day. 4. 6b. Island. Year. 5b. Hour. 1961 7:24 P.M.. Oahu. 6d. Is Place\\xa0... His last name, Obama, was derived from his Luo descent. Obama's parents met in ... First 100 days. Main article: First 100 days of Barack Obama's presidency. Apr 12, 2017 ... President Barack Obama's full name is Barack Hussein Obama. Does it mean that he is a Muslim? 199,232 Views. First Lady Michelle LaVaughn Robinson Obama is a lawyer, writer, and the wife of the 44th President, Barack Obama. She is the first African-American First\\xa0... Apr 2, 2018 ... BARACK : Barkat and Mubarak both are derived from it in Hindi and Urdu. Roughly meaning blessing, abundance etc. Husen or Hussein from which\\xa0... Barack Hussein Obama II was born August 4, 1961, in Honolulu, Hawaii, to parents Barack H. Obama, Sr., and Stanley Ann Dunham. His parents divorced when he\\xa0... Jan 19, 2017 ... Hopeful parents named their sons for the first Black president, whose name is a variation of the Hebrew name Baruch, which means “blessed”\\xa0... Michelle Obama. @MichelleObama. ·. Nov 19. You learn very quickly that there is no handbook or rules to being First Lady. Technically, it's not even an official\\xa0... The Middle East remained a key foreign policy challenge. ... Learn more about Barack Obama's spouse, Michelle Obama. President Barack Obama and First Lady\\xa0... 37M Followers, 9 Following, 879 Posts - See Instagram photos and videos from Barack Obama (@barackobama)\""
      ]
     },
     "execution_count": 4,
     "metadata": {},
     "output_type": "execute_result"
    }
   ],
   "source": [
    "tool.run(\"Obama's first name?\")"
   ]
  },
  {
   "cell_type": "markdown",
   "metadata": {},
   "source": [
    "#### Get the tool parameters\n",
    "Looking at the source code to find the parameters for the `.run` method for the tool\n",
    "\n",
    "\n",
    "```python\n",
    "def run(self, query: str) -> str:\n",
    "        \"\"\"Run query through GoogleSearch and parse result.\"\"\"\n",
    "        ...\n",
    "```"
   ]
  },
  {
   "cell_type": "code",
   "execution_count": 14,
   "metadata": {},
   "outputs": [],
   "source": [
    "search_func = FunctionDeclaration(\n",
    "    name=\"google_search\",\n",
    "    description=\"Perform a Google Search\",\n",
    "    parameters={\n",
    "    \"type\": \"object\",\n",
    "    \"properties\": {\n",
    "        \"query\": {\n",
    "            \"type\": \"string\",\n",
    "            \"description\": \"Google Search Query\"\n",
    "        }\n",
    "    }\n",
    "},\n",
    ")\n"
   ]
  },
  {
   "cell_type": "markdown",
   "metadata": {},
   "source": [
    "You can then define a tool for the LLM to call that includes the `search_func`:"
   ]
  },
  {
   "cell_type": "code",
   "execution_count": 15,
   "metadata": {},
   "outputs": [],
   "source": [
    "search_tool = Tool(\n",
    "    function_declarations=[search_func],\n",
    ")"
   ]
  },
  {
   "cell_type": "markdown",
   "metadata": {},
   "source": [
    "### Use the Gemini Pro model\n",
    "\n",
    "The Gemini Pro (`gemini-pro`) model is designed to handle natural language tasks, multiturn text and code chat, and code generation."
   ]
  },
  {
   "cell_type": "code",
   "execution_count": 16,
   "metadata": {},
   "outputs": [],
   "source": [
    "model = GenerativeModel(\"gemini-pro\")"
   ]
  },
  {
   "cell_type": "code",
   "execution_count": 18,
   "metadata": {},
   "outputs": [
    {
     "data": {
      "text/plain": [
       "candidates {\n",
       "  content {\n",
       "    role: \"model\"\n",
       "    parts {\n",
       "      function_call {\n",
       "        name: \"google_search\"\n",
       "        args {\n",
       "          fields {\n",
       "            key: \"query\"\n",
       "            value {\n",
       "              string_value: \"Top news on Panera Bread\"\n",
       "            }\n",
       "          }\n",
       "        }\n",
       "      }\n",
       "    }\n",
       "  }\n",
       "  finish_reason: STOP\n",
       "  safety_ratings {\n",
       "    category: HARM_CATEGORY_HARASSMENT\n",
       "    probability: NEGLIGIBLE\n",
       "  }\n",
       "  safety_ratings {\n",
       "    category: HARM_CATEGORY_HATE_SPEECH\n",
       "    probability: NEGLIGIBLE\n",
       "  }\n",
       "  safety_ratings {\n",
       "    category: HARM_CATEGORY_SEXUALLY_EXPLICIT\n",
       "    probability: NEGLIGIBLE\n",
       "  }\n",
       "  safety_ratings {\n",
       "    category: HARM_CATEGORY_DANGEROUS_CONTENT\n",
       "    probability: NEGLIGIBLE\n",
       "  }\n",
       "}\n",
       "usage_metadata {\n",
       "  prompt_token_count: 10\n",
       "  total_token_count: 10\n",
       "}"
      ]
     },
     "execution_count": 18,
     "metadata": {},
     "output_type": "execute_result"
    }
   ],
   "source": [
    "prompt = \"What is the top news on Panera Bread?\"\n",
    "\n",
    "response = model.generate_content(\n",
    "    prompt,\n",
    "    generation_config={\"temperature\": 0},\n",
    "    tools=[search_tool]\n",
    ")\n",
    "response"
   ]
  },
  {
   "cell_type": "markdown",
   "metadata": {},
   "source": [
    "##### Quick inspection of one function call"
   ]
  },
  {
   "cell_type": "code",
   "execution_count": 19,
   "metadata": {},
   "outputs": [
    {
     "data": {
      "text/plain": [
       "name: \"google_search\"\n",
       "args {\n",
       "  fields {\n",
       "    key: \"query\"\n",
       "    value {\n",
       "      string_value: \"Top news on Panera Bread\"\n",
       "    }\n",
       "  }\n",
       "}"
      ]
     },
     "execution_count": 19,
     "metadata": {},
     "output_type": "execute_result"
    }
   ],
   "source": [
    "response.candidates[0].content.parts[0].function_call"
   ]
  },
  {
   "cell_type": "code",
   "execution_count": 20,
   "metadata": {},
   "outputs": [],
   "source": [
    "from google.cloud.aiplatform_v1beta1.types.tool import FunctionCall\n",
    "from vertexai.generative_models._generative_models import GenerationResponse\n",
    "from typing import List\n",
    "\n",
    "def use_search_tool(part: Part, search_tool: LangchainTool = tool):\n",
    "    \"\"\"\n",
    "    Run a tool from the browser.\n",
    "\n",
    "    Args:\n",
    "        part: The part to run.\n",
    "        tools_by_name: A dictionary of tool names to Langchain tools.\n",
    "\n",
    "    Returns:\n",
    "        A Part function response representing the results of the tool run.\n",
    "    \"\"\"\n",
    "\n",
    "    single_function_call = part.function_call\n",
    "    tool_name = single_function_call.name\n",
    "    single_function_args = single_function_call.args\n",
    "    if single_function_call.args is None:\n",
    "        tool_params = {}\n",
    "    else:\n",
    "        tool_params = {k: single_function_args[k] for k in single_function_args}\n",
    "    if tool_name != '':\n",
    "        response = search_tool.run(tool_params)\n",
    "        return(Part.from_function_response(\n",
    "        name=tool_name,\n",
    "        response={\n",
    "            \"content\": {\"response\": response},\n",
    "        }\n",
    "        ))\n",
    "\n",
    "\n",
    "def get_parts_from_response(response: GenerationResponse) -> List[FunctionCall]:\n",
    "    \"\"\"\n",
    "    Get the parts from a generation response.\n",
    "\n",
    "    Args:\n",
    "        response: The generation response.\n",
    "\n",
    "    Returns:\n",
    "        A list of parts.\n",
    "    \"\"\"\n",
    "    return(response.candidates[0].content)"
   ]
  },
  {
   "cell_type": "markdown",
   "metadata": {},
   "source": [
    "#### We will now do a mult-turn chat\n",
    "Example can be found here on [function calling](https://cloud.google.com/vertex-ai/docs/generative-ai/multimodal/function-calling#function-calling-one-and-a-half-turn-curl-sample)"
   ]
  },
  {
   "cell_type": "code",
   "execution_count": null,
   "metadata": {},
   "outputs": [],
   "source": []
  },
  {
   "cell_type": "code",
   "execution_count": 23,
   "metadata": {},
   "outputs": [],
   "source": [
    "model = GenerativeModel(\"gemini-pro\", \n",
    "                        generation_config={\"temperature\": 0},\n",
    "                        tools=[search_tool])\n",
    "chat = model.start_chat()"
   ]
  },
  {
   "cell_type": "code",
   "execution_count": 33,
   "metadata": {},
   "outputs": [
    {
     "name": "stdout",
     "output_type": "stream",
     "text": [
      "candidates {\n",
      "  content {\n",
      "    role: \"model\"\n",
      "    parts {\n",
      "      function_call {\n",
      "        name: \"google_search\"\n",
      "        args {\n",
      "          fields {\n",
      "            key: \"query\"\n",
      "            value {\n",
      "              string_value: \"What is going on with Panera Bread Lemonaide?\"\n",
      "            }\n",
      "          }\n",
      "        }\n",
      "      }\n",
      "    }\n",
      "  }\n",
      "  finish_reason: STOP\n",
      "  safety_ratings {\n",
      "    category: HARM_CATEGORY_HARASSMENT\n",
      "    probability: NEGLIGIBLE\n",
      "  }\n",
      "  safety_ratings {\n",
      "    category: HARM_CATEGORY_HATE_SPEECH\n",
      "    probability: NEGLIGIBLE\n",
      "  }\n",
      "  safety_ratings {\n",
      "    category: HARM_CATEGORY_SEXUALLY_EXPLICIT\n",
      "    probability: NEGLIGIBLE\n",
      "  }\n",
      "  safety_ratings {\n",
      "    category: HARM_CATEGORY_DANGEROUS_CONTENT\n",
      "    probability: NEGLIGIBLE\n",
      "  }\n",
      "}\n",
      "usage_metadata {\n",
      "  prompt_token_count: 774\n",
      "  total_token_count: 774\n",
      "}\n",
      "\n",
      "TOOL COMMAND:  [function_response {\n",
      "  name: \"google_search\"\n",
      "  response {\n",
      "    fields {\n",
      "      key: \"content\"\n",
      "      value {\n",
      "        struct_value {\n",
      "          fields {\n",
      "            key: \"response\"\n",
      "            value {\n",
      "              string_value: \"Oct 23, 2023 ... Charged Lemonade at Panera Bread in Walnut Creek, Calif., in March. ... \\342\\200\\234The reasonable consumer is not going to go onto the website to compare\\302\\240... 6 days ago ... Answer: two people died after consuming it. They had pre-existing conditions and one of the people drank three whole cups of it, possibly not\\302\\240... Our Menu \\302\\267 Charged Sips \\302\\267 Soft & Bottled Drinks \\302\\267 Coffee and Hot Tea \\302\\267 Teas & Lemonade \\302\\267 Frozen Drinks and Smoothies \\302\\267 Espresso Bar \\302\\267 Group Serving \\302\\267 Milk & Juice. Oct 23, 2023 ... Go watch the marketing for something like monster or rockstar and compare it with the marketing for the charged lemonade. There is not nearly\\302\\240... Jun 21, 2023 ... \\302\\251 2023 Panera Bread. All Rights Reserved. Beverage. Caffeine. (mg) ... Mango Yuzu Citrus Flavored Charged Lemonade - Serves 5 - Group. 814. Dec 5, 2023 ... Panera Bread\\'s Charged Lemonade being blamed for second death, family files lawsuit ... Fast-causal chain Panera Bread has once again found itself\\302\\240... ... to do this later? Begin Ordering. Contact Support. Welcome back to Panera! Please use the proceeding form fields to log into your MyPanera account! This will\\302\\240... Dec 6, 2023 ... Panera Bread\\'s Charged Lemonade is being blamed in the death of a second person, according to a lawsuit filed on Monday. Oct 26, 2023 ... Sarah Katz collapsed at a friend\\'s birthday party several hours after drinking Panera\\'s Charged Lemonade. Her parents have filed a lawsuit\\302\\240... Oct 23, 2023 ... ... go out to her family. At Panera, we strongly believe in ... Katz had purchased a charged lemonade from a Panera Bread in Philadelphia on Sept.\"\n",
      "            }\n",
      "          }\n",
      "        }\n",
      "      }\n",
      "    }\n",
      "  }\n",
      "}\n",
      "]\n"
     ]
    }
   ],
   "source": [
    "from pprint import pprint\n",
    "\n",
    "\n",
    "# while_loop = True\n",
    "\n",
    "# while while_loop:\n",
    "response = chat.send_message(\"What is going on with Panera Bread Lemonaide?\")\n",
    "pprint(response)\n",
    "function_calls = get_parts_from_response(response)\n",
    "function_calls = function_calls.parts\n",
    "\n",
    "# function_calls\n",
    "tool_commands = [use_search_tool(fn_call) for fn_call in function_calls]\n",
    "print(\"TOOL COMMAND: \", tool_commands)\n",
    "if tool_commands[0] is None:\n",
    "    # break\n",
    "    pass\n",
    "else:\n",
    "    responses = [chat.send_message(command) for command in tool_commands]   "
   ]
  },
  {
   "cell_type": "code",
   "execution_count": 43,
   "metadata": {},
   "outputs": [
    {
     "name": "stdout",
     "output_type": "stream",
     "text": [
      "(\" Panera Bread's Charged Lemonade has been linked to two deaths. The first \"\n",
      " 'death was a 77-year-old woman who died in September 2023 after drinking the '\n",
      " 'lemonade. The second death was a 56-year-old man who died in December 2023 '\n",
      " 'after drinking the lemonade. Both victims had pre-existing health '\n",
      " 'conditions.\\n'\n",
      " '\\n'\n",
      " 'The Charged Lemonade is a sparkling lemonade that contains caffeine and '\n",
      " 'ginseng. It is marketed as a healthy alternative to soda. However, some '\n",
      " 'experts have raised concerns about the safety of the drink. They say that '\n",
      " 'the combination of caffeine and ginseng can be dangerous for people with '\n",
      " 'heart problems or other health conditions.\\n'\n",
      " '\\n'\n",
      " 'Panera Bread has defended the safety of the Charged Lemonade. The company '\n",
      " 'says that the drink is safe for most people to consume. However, the company '\n",
      " 'has warned people with heart problems or other health conditions to avoid '\n",
      " 'drinking the lemonade.\\n'\n",
      " '\\n'\n",
      " 'The FDA is currently investigating the deaths of the two people who died '\n",
      " 'after drinking the Charged Lemonade. The agency is trying to determine if '\n",
      " 'the drink was a factor in their deaths.')\n"
     ]
    }
   ],
   "source": [
    "pprint(responses[0].candidates[0].content.parts[0].text)"
   ]
  }
 ],
 "metadata": {
  "kernelspec": {
   "display_name": "tensorflow",
   "language": "python",
   "name": "python3"
  },
  "language_info": {
   "codemirror_mode": {
    "name": "ipython",
    "version": 3
   },
   "file_extension": ".py",
   "mimetype": "text/x-python",
   "name": "python",
   "nbconvert_exporter": "python",
   "pygments_lexer": "ipython3",
   "version": "3.10.12"
  }
 },
 "nbformat": 4,
 "nbformat_minor": 2
}
