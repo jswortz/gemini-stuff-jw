{
 "cells": [
  {
   "cell_type": "code",
   "execution_count": 1,
   "metadata": {},
   "outputs": [],
   "source": [
    "# Copyright 2023 Google LLC\n",
    "#\n",
    "# Licensed under the Apache License, Version 2.0 (the \"License\");\n",
    "# you may not use this file except in compliance with the License.\n",
    "# You may obtain a copy of the License at\n",
    "#\n",
    "#     https://www.apache.org/licenses/LICENSE-2.0\n",
    "#\n",
    "# Unless required by applicable law or agreed to in writing, software\n",
    "# distributed under the License is distributed on an \"AS IS\" BASIS,\n",
    "# WITHOUT WARRANTIES OR CONDITIONS OF ANY KIND, either express or implied.\n",
    "# See the License for the specific language governing permissions and\n",
    "# limitations under the License."
   ]
  },
  {
   "cell_type": "markdown",
   "metadata": {},
   "source": [
    "# Browser Function Calling with the Vertex AI Gemini API & Python SDK\n",
    "\n",
    "<table align=\"left\">\n",
    "  <td style=\"text-align: center\">\n",
    "    <a href=\"https://colab.research.google.com/github/GoogleCloudPlatform/generative-ai/blob/main/gemini/function-calling/intro_function_calling.ipynb\">\n",
    "      <img src=\"https://cloud.google.com/ml-engine/images/colab-logo-32px.png\" alt=\"Google Colaboratory logo\"><br> Run in Colab\n",
    "    </a>\n",
    "  </td>\n",
    "  <td style=\"text-align: center\">\n",
    "    <a href=\"https://github.com/GoogleCloudPlatform/generative-ai/blob/main/gemini/function-calling/intro_function_calling.ipynb\">\n",
    "      <img src=\"https://cloud.google.com/ml-engine/images/github-logo-32px.png\" alt=\"GitHub logo\"><br> View on GitHub\n",
    "    </a>\n",
    "  </td>\n",
    "  <td style=\"text-align: center\">\n",
    "    <a href=\"https://console.cloud.google.com/vertex-ai/workbench/deploy-notebook?download_url=https://raw.githubusercontent.com/GoogleCloudPlatform/generative-ai/blob/main/gemini/function-calling/intro_function_calling.ipynb\">\n",
    "      <img src=\"https://lh3.googleusercontent.com/UiNooY4LUgW_oTvpsNhPpQzsstV5W8F7rYgxgGBD85cWJoLmrOzhVs_ksK_vgx40SHs7jCqkTkCk=e14-rj-sc0xffffff-h130-w32\" alt=\"Vertex AI logo\"><br> Open in Vertex AI Workbench\n",
    "    </a>\n",
    "  </td>\n",
    "</table>\n"
   ]
  },
  {
   "cell_type": "code",
   "execution_count": 2,
   "metadata": {},
   "outputs": [],
   "source": [
    "#upgrade the sdk for Gemini\n",
    "# !pip3 install --upgrade --user google-cloud-aiplatform"
   ]
  },
  {
   "cell_type": "code",
   "execution_count": 3,
   "metadata": {},
   "outputs": [],
   "source": [
    "# !pip install playwright > /dev/null\n",
    "# !pip install  lxml\n",
    "\n",
    "# If this is your first time using playwright, you'll have to install a browser executable.\n",
    "# Running `playwright install` by default installs a chromium browser executable.\n",
    "# !playwright install\n",
    "# Also run this:\n",
    "# !playwright install dependencies"
   ]
  },
  {
   "cell_type": "markdown",
   "metadata": {},
   "source": [
    "#### We will be utilizing pre-built Langchain tools for the Google Search\n",
    "\n",
    "____________\n",
    "\n",
    "## Google Search\n",
    "[Langchain Guide](https://python.langchain.com/docs/integrations/tools/google_search)\n",
    "\n",
    "This notebook goes over how to use the google search component.\n",
    "\n",
    "First, you need to set up the proper API keys and environment variables. To set it up, create the GOOGLE_API_KEY in the Google Cloud credential console (https://console.cloud.google.com/apis/credentials) and a GOOGLE_CSE_ID using the Programmable Search Engine (https://programmablesearchengine.google.com/controlpanel/create). Next, it is good to follow the instructions found here.\n",
    "\n",
    "Then we will need to set some environment variables.\n",
    "\n",
    "```python\n",
    "import os\n",
    "\n",
    "os.environ[\"GOOGLE_CSE_ID\"] = \"\"\n",
    "os.environ[\"GOOGLE_API_KEY\"] = \"\"\n",
    "```"
   ]
  },
  {
   "cell_type": "code",
   "execution_count": 4,
   "metadata": {},
   "outputs": [],
   "source": [
    "#using a local json key - careful don't commit that file!\n",
    "import json\n",
    "import os\n",
    "\n",
    "f = open('config.json')\n",
    "config = json.load(f)\n",
    "f.close()\n",
    "\n",
    "\n",
    "os.environ[\"GOOGLE_CSE_ID\"] = config['SEARCH_ID']\n",
    "os.environ[\"GOOGLE_API_KEY\"] = config['CSE_KEY']"
   ]
  },
  {
   "cell_type": "code",
   "execution_count": 5,
   "metadata": {},
   "outputs": [
    {
     "name": "stderr",
     "output_type": "stream",
     "text": [
      "2023-12-18 18:55:54.841840: I tensorflow/core/platform/cpu_feature_guard.cc:193] This TensorFlow binary is optimized with oneAPI Deep Neural Network Library (oneDNN) to use the following CPU instructions in performance-critical operations:  AVX2 FMA\n",
      "To enable them in other operations, rebuild TensorFlow with the appropriate compiler flags.\n",
      "2023-12-18 18:55:56.354077: W tensorflow/compiler/xla/stream_executor/platform/default/dso_loader.cc:64] Could not load dynamic library 'libnvinfer.so.7'; dlerror: libnvinfer.so.7: cannot open shared object file: No such file or directory; LD_LIBRARY_PATH: /usr/local/cuda/lib64:/usr/local/nccl2/lib:/usr/local/cuda/extras/CUPTI/lib64:/usr/local/cuda/lib64:/usr/local/nccl2/lib:/usr/local/cuda/extras/CUPTI/lib64\n",
      "2023-12-18 18:55:56.354233: W tensorflow/compiler/xla/stream_executor/platform/default/dso_loader.cc:64] Could not load dynamic library 'libnvinfer_plugin.so.7'; dlerror: libnvinfer_plugin.so.7: cannot open shared object file: No such file or directory; LD_LIBRARY_PATH: /usr/local/cuda/lib64:/usr/local/nccl2/lib:/usr/local/cuda/extras/CUPTI/lib64:/usr/local/cuda/lib64:/usr/local/nccl2/lib:/usr/local/cuda/extras/CUPTI/lib64\n",
      "2023-12-18 18:55:56.354244: W tensorflow/compiler/tf2tensorrt/utils/py_utils.cc:38] TF-TRT Warning: Cannot dlopen some TensorRT libraries. If you would like to use Nvidia GPU with TensorRT, please make sure the missing libraries mentioned above are installed properly.\n"
     ]
    }
   ],
   "source": [
    "\n",
    "import requests\n",
    "from vertexai.preview.generative_models import (\n",
    "    Content,\n",
    "    FunctionDeclaration,\n",
    "    GenerativeModel,\n",
    "    Part,\n",
    "    Tool,\n",
    ")\n",
    "\n",
    "from langchain.utilities import GoogleSearchAPIWrapper\n",
    "\n",
    "search = GoogleSearchAPIWrapper()\n"
   ]
  },
  {
   "cell_type": "markdown",
   "metadata": {},
   "source": [
    "#### Create the Langchain tool for search\n",
    "\n",
    "We will want to create a custom tool that leverages the `results` method"
   ]
  },
  {
   "cell_type": "code",
   "execution_count": 6,
   "metadata": {},
   "outputs": [],
   "source": [
    "\n",
    "from google.cloud.aiplatform_v1beta1.types.tool import FunctionCall\n",
    "from vertexai.generative_models._generative_models import GenerationResponse\n",
    "from typing import List\n",
    "\n",
    "def get_parts_from_response(response: GenerationResponse) -> List[FunctionCall]:\n",
    "    \"\"\"\n",
    "    Get the parts from a generation response.\n",
    "\n",
    "    Args:\n",
    "        response: The generation response.\n",
    "\n",
    "    Returns:\n",
    "        A list of parts.\n",
    "    \"\"\"\n",
    "    return(response.candidates[0].content)"
   ]
  },
  {
   "cell_type": "code",
   "execution_count": 7,
   "metadata": {},
   "outputs": [],
   "source": [
    "search_func = FunctionDeclaration(\n",
    "    name=\"google_search\",\n",
    "    description=\"Perform a Google Search\",\n",
    "    parameters={\n",
    "    \"type\": \"object\",\n",
    "    \"properties\": {\n",
    "        \"query\": {\n",
    "            \"type\": \"string\",\n",
    "            \"description\": \"Google Search Query\"\n",
    "        },\n",
    "        \"num_results\": {\n",
    "            \"type\": \"integer\",\n",
    "            \"description\": \"Number of results to return\"        }\n",
    "    }\n",
    "},\n",
    ")\n"
   ]
  },
  {
   "cell_type": "markdown",
   "metadata": {},
   "source": [
    "You can then define a tool for the LLM to call that includes the `search_func`:"
   ]
  },
  {
   "cell_type": "code",
   "execution_count": 8,
   "metadata": {},
   "outputs": [],
   "source": [
    "search_tool = Tool(\n",
    "    function_declarations=[search_func],\n",
    ")"
   ]
  },
  {
   "cell_type": "markdown",
   "metadata": {},
   "source": [
    "### Use the Gemini Pro model\n",
    "\n",
    "The Gemini Pro (`gemini-pro`) model is designed to handle natural language tasks, multiturn text and code chat, and code generation."
   ]
  },
  {
   "cell_type": "code",
   "execution_count": 9,
   "metadata": {},
   "outputs": [],
   "source": [
    "model = GenerativeModel(\"gemini-pro\")"
   ]
  },
  {
   "cell_type": "code",
   "execution_count": 10,
   "metadata": {},
   "outputs": [
    {
     "data": {
      "text/plain": [
       "candidates {\n",
       "  content {\n",
       "    role: \"model\"\n",
       "    parts {\n",
       "      function_call {\n",
       "        name: \"google_search\"\n",
       "        args {\n",
       "          fields {\n",
       "            key: \"num_results\"\n",
       "            value {\n",
       "              number_value: 8.0\n",
       "            }\n",
       "          }\n",
       "          fields {\n",
       "            key: \"query\"\n",
       "            value {\n",
       "              string_value: \"Top news on Panera Bread\"\n",
       "            }\n",
       "          }\n",
       "        }\n",
       "      }\n",
       "    }\n",
       "  }\n",
       "  finish_reason: STOP\n",
       "  safety_ratings {\n",
       "    category: HARM_CATEGORY_HARASSMENT\n",
       "    probability: NEGLIGIBLE\n",
       "  }\n",
       "  safety_ratings {\n",
       "    category: HARM_CATEGORY_HATE_SPEECH\n",
       "    probability: NEGLIGIBLE\n",
       "  }\n",
       "  safety_ratings {\n",
       "    category: HARM_CATEGORY_SEXUALLY_EXPLICIT\n",
       "    probability: NEGLIGIBLE\n",
       "  }\n",
       "  safety_ratings {\n",
       "    category: HARM_CATEGORY_DANGEROUS_CONTENT\n",
       "    probability: NEGLIGIBLE\n",
       "  }\n",
       "}\n",
       "usage_metadata {\n",
       "  prompt_token_count: 16\n",
       "  total_token_count: 16\n",
       "}"
      ]
     },
     "execution_count": 10,
     "metadata": {},
     "output_type": "execute_result"
    }
   ],
   "source": [
    "prompt = \"What is the top news on Panera Bread using the top 8 results?\"\n",
    "\n",
    "response = model.generate_content(\n",
    "    prompt,\n",
    "    generation_config={\"temperature\": 0},\n",
    "    tools=[search_tool]\n",
    ")\n",
    "response"
   ]
  },
  {
   "cell_type": "markdown",
   "metadata": {},
   "source": [
    "##### Quick inspection of one function call"
   ]
  },
  {
   "cell_type": "code",
   "execution_count": 11,
   "metadata": {},
   "outputs": [
    {
     "data": {
      "text/plain": [
       "name: \"google_search\"\n",
       "args {\n",
       "  fields {\n",
       "    key: \"num_results\"\n",
       "    value {\n",
       "      number_value: 8.0\n",
       "    }\n",
       "  }\n",
       "  fields {\n",
       "    key: \"query\"\n",
       "    value {\n",
       "      string_value: \"Top news on Panera Bread\"\n",
       "    }\n",
       "  }\n",
       "}"
      ]
     },
     "execution_count": 11,
     "metadata": {},
     "output_type": "execute_result"
    }
   ],
   "source": [
    "response.candidates[0].content.parts[0].function_call"
   ]
  },
  {
   "cell_type": "code",
   "execution_count": 12,
   "metadata": {},
   "outputs": [
    {
     "data": {
      "text/plain": [
       "[{'title': 'Panera Bread - latest news, breaking stories and comment - The ...',\n",
       "  'link': 'https://www.independent.co.uk/topic/panera-bread',\n",
       "  'snippet': 'The latest breaking news, comment and features from The Independent.'},\n",
       " {'title': 'Press Room & Featured News | Panera Bread',\n",
       "  'link': 'https://www.panerabread.com/en-us/press/press-room.html',\n",
       "  'snippet': \"Welcome to the Panera Bread Press Room. Here you will find various resources on the nation's bread leader, including press releases, company information and\\xa0...\"},\n",
       " {'title': 'Panera Bread chops 17% of corporate staff ahead of IPO ...',\n",
       "  'link': 'https://www.restaurantdive.com/news/panera-bread-layoffs-17-percent-306-corporate-employees-prepares-IPO/698634/',\n",
       "  'snippet': 'Nov 2, 2023 ... Panera Brands — which consists of Panera Bread, Caribou Coffee and Einstein Bros. ... Subscribe to Restaurant Dive for top news, trends & analysis.'},\n",
       " {'title': 'Panera Bread - We we have have very very big big news news ...',\n",
       "  'link': 'https://www.facebook.com/panerabread/posts/we-we-have-have-very-very-big-big-news-news-everyone-everyone/10157080800994629/',\n",
       "  'snippet': 'Feb 12, 2019 ... cups to the top??! 5 yrs. 57. View previous reply. Paige Costello. Brenda Perez, just for it to be made with less ice! When a customer asks for\\xa0...'},\n",
       " {'title': 'Panera Bread faces suit from family of student who died after ...',\n",
       "  'link': 'https://www.nbcnews.com/news/us-news/panera-lawsuit-charged-lemonade-sarah-katz-death-rcna120785',\n",
       "  'snippet': 'Oct 23, 2023 ... The legal complaint, which was filed Monday morning in the Philadelphia Court of Common Pleas and was first obtained by NBC News, calls the\\xa0...'},\n",
       " {'title': 'Panera Bread parent announces CEO transition as it prepares for ...',\n",
       "  'link': 'https://www.cnbc.com/2023/05/23/panera-parent-announces-ceo-transition-as-it-preps-for-ipo.html',\n",
       "  'snippet': 'May 23, 2023 ... In the press release, Panera Brands said the leadership changes are “in preparation for its eventual IPO.” Current CEO Niren Chaudhary will step\\xa0...'},\n",
       " {'title': \"SeaDrone CEO arrested for peeping in Panera Bread women's ...\",\n",
       "  'link': 'https://www.kron4.com/news/bay-area/tech-ceo-arrested-for-peeping-in-panera-bread-womens-restroom-in-mountain-view/',\n",
       "  'snippet': 'Jan 2, 2023 ... ... Panera Bread restroom, the Mountain View Police Department said in a press ... top of a northbound freight train in Irapuato, Mexico,. Top Stories\\xa0...'},\n",
       " {'title': 'Panera Bread to test smaller menu at some locations',\n",
       "  'link': 'https://restaurantbusinessonline.com/operations/panera-bread-test-smaller-menu-some-locations',\n",
       "  'snippet': 'Aug 25, 2023 ... The 3,852-unit bakery-cafe chain confirmed the news Friday after a ... Top 100 Independents 2023 · Top 100 Independents 2023 · Special Reports\\xa0...'}]"
      ]
     },
     "execution_count": 12,
     "metadata": {},
     "output_type": "execute_result"
    }
   ],
   "source": [
    "function_calls = get_parts_from_response(response)\n",
    "\n",
    "function_calls = function_calls.parts\n",
    "function_calls\n",
    "\n",
    "single_function_args = function_calls[0].function_call.args\n",
    "tool_res = search.results(** {k: v for k, v in single_function_args.items()})\n",
    "tool_res"
   ]
  },
  {
   "cell_type": "code",
   "execution_count": 13,
   "metadata": {},
   "outputs": [],
   "source": [
    "from google.cloud.aiplatform_v1beta1.types.tool import FunctionCall\n",
    "from vertexai.generative_models._generative_models import GenerationResponse\n",
    "from typing import List\n",
    "\n",
    "def get_parts_from_response(response: GenerationResponse) -> List[FunctionCall]:\n",
    "    \"\"\"\n",
    "    Get the parts from a generation response.\n",
    "\n",
    "    Args:\n",
    "        response: The generation response.\n",
    "\n",
    "    Returns:\n",
    "        A list of parts.\n",
    "    \"\"\"\n",
    "    return(response.candidates[0].content)"
   ]
  },
  {
   "cell_type": "markdown",
   "metadata": {},
   "source": [
    "#### We will now do a mult-turn chat\n",
    "Example can be found here on [function calling](https://cloud.google.com/vertex-ai/docs/generative-ai/multimodal/function-calling#function-calling-one-and-a-half-turn-curl-sample)"
   ]
  },
  {
   "cell_type": "code",
   "execution_count": 14,
   "metadata": {},
   "outputs": [],
   "source": [
    "model = GenerativeModel(\"gemini-pro\", \n",
    "                        generation_config={\"temperature\": 0},\n",
    "                        tools=[search_tool])\n",
    "chat = model.start_chat()"
   ]
  },
  {
   "cell_type": "code",
   "execution_count": 15,
   "metadata": {},
   "outputs": [
    {
     "data": {
      "text/plain": [
       "[function_call {\n",
       "   name: \"google_search\"\n",
       "   args {\n",
       "     fields {\n",
       "       key: \"num_results\"\n",
       "       value {\n",
       "         number_value: 5.0\n",
       "       }\n",
       "     }\n",
       "     fields {\n",
       "       key: \"query\"\n",
       "       value {\n",
       "         string_value: \"Deepmind solved unsolvable math problem December 2023\"\n",
       "       }\n",
       "     }\n",
       "   }\n",
       " }]"
      ]
     },
     "execution_count": 15,
     "metadata": {},
     "output_type": "execute_result"
    }
   ],
   "source": [
    "from pprint import pprint\n",
    "\n",
    "prompt = \"How did deepmind recently solve an unsolvable math problem (december 2023), look for the top 5 articles\"\n",
    "# while_loop = True\n",
    "\n",
    "# while while_loop:\n",
    "response = chat.send_message(prompt)\n",
    "# pprint(response)\n",
    "function_calls = get_parts_from_response(response)\n",
    "\n",
    "function_calls = function_calls.parts\n",
    "function_calls"
   ]
  },
  {
   "cell_type": "code",
   "execution_count": 16,
   "metadata": {},
   "outputs": [
    {
     "data": {
      "text/plain": [
       "{'num_results': 8.0, 'query': 'Top news on Panera Bread'}"
      ]
     },
     "execution_count": 16,
     "metadata": {},
     "output_type": "execute_result"
    }
   ],
   "source": [
    "{k: v for k, v in single_function_args.items()}"
   ]
  },
  {
   "cell_type": "code",
   "execution_count": 17,
   "metadata": {},
   "outputs": [
    {
     "name": "stdout",
     "output_type": "stream",
     "text": [
      "[{'title': 'DeepMind AI outdoes human mathematicians on unsolved problem', 'link': 'https://www.nature.com/articles/d41586-023-04043-w', 'snippet': '4 days ago ... 14 December 2023. DeepMind AI outdoes human mathematicians on unsolved problem. Large language model improves on efforts to solve\\xa0...'}, {'title': 'Google DeepMind used a large language model to solve an ...', 'link': 'https://www.technologyreview.com/2023/12/14/1085318/google-deepmind-large-language-model-solve-unsolvable-math-problem-cap-set/', 'snippet': 'Google DeepMind used a large language model to solve ... December 14, 2023. scraps of old algebra textbook piled with an old photo of a woman surrounded by\\xa0...'}, {'title': 'Google DeepMind Uses LLM To Solve Unsolvable Math Problem ...', 'link': 'https://science.slashdot.org/story/23/12/14/1933219/google-deepmind-uses-llm-to-solve-unsolvable-math-problem', 'snippet': 'Posted by BeauHD on Thursday December 14, 2023 @10:30PM from the what-will-they-think-of-next dept. An anonymous reader quotes a report from MIT Technology\\xa0...'}, {'title': 'Sarah Bana (@SarahHBana) / X', 'link': 'https://twitter.com/sarahhbana?lang=en', 'snippet': 'Google DeepMind used a large language model to solve an unsolvable math problem ... The December 2023 issue of the American Economic Review (113, 12) is now\\xa0...'}, {'title': 'Archive for Saturday, 16th December 2023', 'link': 'https://simonwillison.net/2023/Dec/16/', 'snippet': \"3 days ago ... Google DeepMind used a large language model to solve an unsolvable math problem. I'd been wondering how long it would be before we saw this\\xa0...\"}]\n"
     ]
    }
   ],
   "source": [
    "single_function_args = function_calls[0].function_call.args\n",
    "tool_res = search.results(** {k: v for k, v in single_function_args.items()})\n",
    "print(tool_res)"
   ]
  },
  {
   "cell_type": "code",
   "execution_count": 18,
   "metadata": {},
   "outputs": [
    {
     "name": "stdout",
     "output_type": "stream",
     "text": [
      "model_response\n",
      " candidates {\n",
      "  content {\n",
      "    role: \"model\"\n",
      "    parts {\n",
      "      text: \"1. **DeepMind AI Outdoes Human Mathematicians on Unsolved Problem**\\n[Nature](https://www.nature.com/articles/d41586-023-04043-w)\\n\\n2. **Google DeepMind Used a Large Language Model to Solve an Unsolvable Math Problem**\\n[Technology Review](https://www.technologyreview.com/2023/12/14/1085318/google-deepmind-large-language-model-solve-unsolvable-math-problem-cap-set/)\\n\\n3. **Google DeepMind Uses LLM To Solve Unsolvable Math Problem**\\n[Slashdot](https://science.slashdot.org/story/23/12/14/1933219/google-deepmind-uses-llm-to-solve-unsolvable-math-problem)\\n\\n4. **Google DeepMind used a large language model to solve an unsolvable math problem**\\n[Twitter](https://twitter.com/sarahhbana?lang=en)\\n\\n5. **Google DeepMind used a large language model to solve an unsolvable math problem**\\n[Simon Willison](https://simonwillison.net/2023/Dec/16/)\"\n",
      "    }\n",
      "  }\n",
      "  finish_reason: STOP\n",
      "  safety_ratings {\n",
      "    category: HARM_CATEGORY_HARASSMENT\n",
      "    probability: NEGLIGIBLE\n",
      "  }\n",
      "  safety_ratings {\n",
      "    category: HARM_CATEGORY_HATE_SPEECH\n",
      "    probability: NEGLIGIBLE\n",
      "  }\n",
      "  safety_ratings {\n",
      "    category: HARM_CATEGORY_SEXUALLY_EXPLICIT\n",
      "    probability: NEGLIGIBLE\n",
      "  }\n",
      "  safety_ratings {\n",
      "    category: HARM_CATEGORY_DANGEROUS_CONTENT\n",
      "    probability: NEGLIGIBLE\n",
      "  }\n",
      "}\n",
      "usage_metadata {\n",
      "  prompt_token_count: 27\n",
      "  candidates_token_count: 285\n",
      "  total_token_count: 312\n",
      "}\n",
      "\n"
     ]
    }
   ],
   "source": [
    "model_response = chat.send_message(\n",
    "  Part.from_function_response(\n",
    "      name=\"google_search\",\n",
    "      response={\n",
    "          \"content\": {\"google_search_results\": tool_res},\n",
    "      }\n",
    "  ),\n",
    "  tools=[search_tool]\n",
    ")\n",
    "print(\"model_response\\n\", model_response)"
   ]
  },
  {
   "cell_type": "code",
   "execution_count": 19,
   "metadata": {},
   "outputs": [
    {
     "data": {
      "text/plain": [
       "candidates {\n",
       "  content {\n",
       "    role: \"model\"\n",
       "    parts {\n",
       "      text: \"1. **DeepMind AI Outdoes Human Mathematicians on Unsolved Problem**\\n[Nature](https://www.nature.com/articles/d41586-023-04043-w)\\n\\nThis article reports that DeepMind\\'s AlphaTensor AI system has solved a previously unsolvable math problem known as the \\\"CAP-set problem.\\\" The problem involves finding the smallest set of numbers that can be used to represent all other numbers in a given range. AlphaTensor was able to find a set of just 17 numbers that can represent all numbers between 1 and 1000.\\n\\n2. **Google DeepMind Used a Large Language Model to Solve an Unsolvable Math Problem**\\n[Technology Review](https://www.technologyreview.com/2023/12/14/1085318/google-deepmind-large-language-model-solve-unsolvable-math-problem-cap-set/)\\n\\nThis article provides a more in-depth look at how AlphaTensor solved the CAP-set problem. It explains that AlphaTensor used a technique called \\\"reinforcement learning\\\" to train itself to find the smallest possible set of numbers that could represent all other numbers in a given range.\\n\\n3. **Google DeepMind Uses LLM To Solve Unsolvable Math Problem**\\n[Slashdot](https://science.slashdot.org/story/23/12/14/1933219/google-deepmind-uses-llm-to-solve-unsolvable-math-problem)\\n\\nThis article provides a brief overview of AlphaTensor\\'s achievement, and discusses some of the implications of this breakthrough. It notes that AlphaTensor\\'s success could lead to new advances in a variety of fields, including artificial intelligence, mathematics, and computer science.\\n\\n4. **Google DeepMind used a large language model to solve an unsolvable math problem**\\n[Twitter](https://twitter.com/sarahhbana?lang=en)\\n\\nThis tweet from Sarah Bana, a research scientist at DeepMind, provides a link to a blog post that discusses AlphaTensor\\'s achievement in more detail. The blog post explains how AlphaTensor was able to solve the CAP-set problem, and discusses some of the potential applications of this breakthrough.\\n\\n5. **Google DeepMind used a large language model to solve an unsolvable math problem**\\n[Simon Willison](https://simonwillison.net/2023/Dec/16/)\\n\\nThis blog post from Simon Willison, a software engineer and writer, provides a non-technical explanation of AlphaTensor\\'s achievement. It explains what the CAP-set problem is, and how AlphaTensor was able to solve it. The blog post also discusses some of the implications of this breakthrough, and how it could lead to new advances in a variety of fields.\"\n",
       "    }\n",
       "  }\n",
       "  finish_reason: STOP\n",
       "  safety_ratings {\n",
       "    category: HARM_CATEGORY_HARASSMENT\n",
       "    probability: NEGLIGIBLE\n",
       "  }\n",
       "  safety_ratings {\n",
       "    category: HARM_CATEGORY_HATE_SPEECH\n",
       "    probability: NEGLIGIBLE\n",
       "  }\n",
       "  safety_ratings {\n",
       "    category: HARM_CATEGORY_SEXUALLY_EXPLICIT\n",
       "    probability: NEGLIGIBLE\n",
       "  }\n",
       "  safety_ratings {\n",
       "    category: HARM_CATEGORY_DANGEROUS_CONTENT\n",
       "    probability: NEGLIGIBLE\n",
       "  }\n",
       "}\n",
       "usage_metadata {\n",
       "  prompt_token_count: 339\n",
       "  candidates_token_count: 613\n",
       "  total_token_count: 952\n",
       "}"
      ]
     },
     "execution_count": 19,
     "metadata": {},
     "output_type": "execute_result"
    }
   ],
   "source": [
    "chat.send_message(prompt)"
   ]
  },
  {
   "cell_type": "code",
   "execution_count": 20,
   "metadata": {},
   "outputs": [],
   "source": [
    "followup_prompt = \"what are other related google search topics on this I could research? Use the google search tool\""
   ]
  },
  {
   "cell_type": "code",
   "execution_count": 21,
   "metadata": {},
   "outputs": [
    {
     "name": "stdout",
     "output_type": "stream",
     "text": [
      "[{'title': 'DeepMind AI outdoes human mathematicians on unsolved problem', 'link': 'https://www.nature.com/articles/d41586-023-04043-w', 'snippet': '4 days ago ... But its inventors say that the method, described in Nature on 14 December, could be applied to a variety of questions in maths and computer\\xa0...'}, {'title': 'Google DeepMind used a large language model to solve an ...', 'link': 'https://www.technologyreview.com/2023/12/14/1085318/google-deepmind-large-language-model-solve-unsolvable-math-problem-cap-set/', 'snippet': 'Google DeepMind used a large language model to solve ... December 14, 2023. scraps of old algebra textbook piled with an old photo of a woman surrounded by\\xa0...'}, {'title': 'Google DeepMind Uses LLM To Solve Unsolvable Math Problem ...', 'link': 'https://science.slashdot.org/story/23/12/14/1933219/google-deepmind-uses-llm-to-solve-unsolvable-math-problem', 'snippet': 'Posted by BeauHD on Thursday December 14, 2023 @10:30PM from the what-will-they-think-of-next dept. An anonymous reader quotes a report from MIT Technology\\xa0...'}, {'title': \"Google's DeepMind creates generative AI model with fact checker to ...\", 'link': 'https://siliconangle.com/2023/12/14/googles-deepmind-creates-generative-ai-model-fact-checker-crack-unsolvable-math-problem/', 'snippet': \"UPDATED 18:50 EST / DECEMBER 14 2023. AI. Google's DeepMind creates generative AI model with fact checker to crack unsolvable math problem. by Mike Wheatley.\"}, {'title': 'Sarah Bana (@SarahHBana) / X', 'link': 'https://twitter.com/sarahhbana?lang=en', 'snippet': 'Google DeepMind used a large language model to solve an unsolvable math problem ... The December 2023 issue of the American Economic Review (113, 12) is now\\xa0...'}]\n"
     ]
    }
   ],
   "source": [
    "response = chat.send_message(followup_prompt)\n",
    "function_calls = get_parts_from_response(response)\n",
    "\n",
    "function_calls = function_calls.parts\n",
    "single_function_args = function_calls[0].function_call.args\n",
    "tool_res = search.results(** {k: v for k, v in single_function_args.items()})\n",
    "print(tool_res)"
   ]
  },
  {
   "cell_type": "code",
   "execution_count": 22,
   "metadata": {},
   "outputs": [
    {
     "name": "stdout",
     "output_type": "stream",
     "text": [
      "model_response\n",
      " candidates {\n",
      "  content {\n",
      "    role: \"model\"\n",
      "    parts {\n",
      "      text: \" Here are some other related Google search topics on DeepMind solving an unsolvable math problem in December 2023 that you could research:\\n\\n* **Applications of AlphaTensor**\\n* **Implications of AlphaTensor\\'s breakthrough**\\n* **Other math problems that AlphaTensor could solve**\\n* **How AlphaTensor could be used to improve AI**\\n* **The future of AI and mathematics**\\n\\nYou could also search for articles and blog posts that discuss AlphaTensor\\'s achievement in more detail. For example, you could search for:\\n\\n* **DeepMind AlphaTensor explained**\\n* **How AlphaTensor works**\\n* **AlphaTensor\\'s impact on mathematics**\\n* **AlphaTensor\\'s potential applications**\\n\\nI hope this helps!\"\n",
      "    }\n",
      "  }\n",
      "  finish_reason: STOP\n",
      "  safety_ratings {\n",
      "    category: HARM_CATEGORY_HARASSMENT\n",
      "    probability: NEGLIGIBLE\n",
      "  }\n",
      "  safety_ratings {\n",
      "    category: HARM_CATEGORY_HATE_SPEECH\n",
      "    probability: NEGLIGIBLE\n",
      "  }\n",
      "  safety_ratings {\n",
      "    category: HARM_CATEGORY_SEXUALLY_EXPLICIT\n",
      "    probability: NEGLIGIBLE\n",
      "  }\n",
      "  safety_ratings {\n",
      "    category: HARM_CATEGORY_DANGEROUS_CONTENT\n",
      "    probability: NEGLIGIBLE\n",
      "  }\n",
      "}\n",
      "usage_metadata {\n",
      "  prompt_token_count: 970\n",
      "  candidates_token_count: 157\n",
      "  total_token_count: 1127\n",
      "}\n",
      "\n"
     ]
    }
   ],
   "source": [
    "model_response = chat.send_message(\n",
    "  Part.from_function_response(\n",
    "      name=\"google_search\",\n",
    "      response={\n",
    "          \"content\": {\"google_search_results\": tool_res},\n",
    "      }\n",
    "  ),\n",
    "  tools=[search_tool]\n",
    ")\n",
    "print(\"model_response\\n\", model_response)"
   ]
  },
  {
   "cell_type": "code",
   "execution_count": 23,
   "metadata": {},
   "outputs": [
    {
     "name": "stdout",
     "output_type": "stream",
     "text": [
      "(\"**DeepMind's AlphaTensor Solves Unsolvable Math Problem (December 2023)**\\n\"\n",
      " '\\n'\n",
      " '* AlphaTensor, a new AI system developed by DeepMind, has solved a '\n",
      " 'previously unsolvable math problem known as the \"CAP-set problem.\"\\n'\n",
      " '* The CAP-set problem involves finding the smallest set of numbers that can '\n",
      " 'be used to represent all other numbers in a given range.\\n'\n",
      " '* AlphaTensor was able to find a set of just 17 numbers that can represent '\n",
      " 'all numbers between 1 and 1000.\\n'\n",
      " '* AlphaTensor used a technique called \"reinforcement learning\" to train '\n",
      " 'itself to find the smallest possible set of numbers that could represent all '\n",
      " 'other numbers in a given range.\\n'\n",
      " \"* AlphaTensor's breakthrough could have implications for a variety of \"\n",
      " 'fields, including artificial intelligence, mathematics, and computer '\n",
      " 'science.\\n'\n",
      " '\\n'\n",
      " '**Potential Applications of AlphaTensor**\\n'\n",
      " '\\n'\n",
      " '* AlphaTensor could be used to develop new algorithms for solving complex '\n",
      " 'mathematical problems.\\n'\n",
      " '* AlphaTensor could be used to create new AI systems that are better at '\n",
      " 'solving math problems than humans.\\n'\n",
      " '* AlphaTensor could be used to develop new educational tools that help '\n",
      " 'students learn math.\\n'\n",
      " '* AlphaTensor could be used to develop new financial models that are more '\n",
      " 'accurate and reliable.\\n'\n",
      " '* AlphaTensor could be used to develop new scientific models that are more '\n",
      " 'complex and realistic.\\n'\n",
      " '\\n'\n",
      " \"**Implications of AlphaTensor's Breakthrough**\\n\"\n",
      " '\\n'\n",
      " \"* AlphaTensor's breakthrough shows that AI is capable of solving complex \"\n",
      " 'mathematical problems that were previously thought to be unsolvable.\\n'\n",
      " \"* AlphaTensor's breakthrough could lead to new advances in a variety of \"\n",
      " 'fields, including artificial intelligence, mathematics, and computer '\n",
      " 'science.\\n'\n",
      " \"* AlphaTensor's breakthrough could have a major impact on the way that we \"\n",
      " 'think about AI and its potential applications.')\n"
     ]
    }
   ],
   "source": [
    "final_prompt=\"please create a nice bulleted summary of this topic\"\n",
    "final_response = chat.send_message(final_prompt)\n",
    "\n",
    "pprint(final_response.candidates[0].content.parts[0].text)"
   ]
  }
 ],
 "metadata": {
  "kernelspec": {
   "display_name": "tensorflow",
   "language": "python",
   "name": "python3"
  },
  "language_info": {
   "codemirror_mode": {
    "name": "ipython",
    "version": 3
   },
   "file_extension": ".py",
   "mimetype": "text/x-python",
   "name": "python",
   "nbconvert_exporter": "python",
   "pygments_lexer": "ipython3",
   "version": "3.10.12"
  }
 },
 "nbformat": 4,
 "nbformat_minor": 2
}
